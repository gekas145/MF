{
 "cells": [
  {
   "cell_type": "markdown",
   "id": "ee8ed886",
   "metadata": {},
   "source": [
    "# Laboratorium 3"
   ]
  },
  {
   "cell_type": "code",
   "execution_count": 1,
   "id": "6ae0c57f",
   "metadata": {},
   "outputs": [],
   "source": [
    "import numpy as np\n",
    "from scipy.special import binom"
   ]
  },
  {
   "cell_type": "code",
   "execution_count": 2,
   "id": "29fa6c2d",
   "metadata": {},
   "outputs": [],
   "source": [
    "class CRR:\n",
    "    def __init__(self, S0, d, u, r, T):\n",
    "        if not (d < 1 + r < u):\n",
    "            raise ValueError('in CRR model it must be d < 1 + r < u')\n",
    "        self.S0 = S0\n",
    "        self.d = d\n",
    "        self.u = u\n",
    "        self.r = r\n",
    "        self.T = T\n",
    "        self.p = (1 + r - d)/(u - d)\n",
    "        \n",
    "    def get_S_trajectory(self, trajectory):\n",
    "        t = np.ndarray.copy(trajectory)\n",
    "        t = np.insert(t, 0, 1.0, axis=0)\n",
    "        return np.cumprod(t) * self.S0\n",
    "    \n",
    "    def get_rational_price(self, option, trajectory=None):\n",
    "            if trajectory is None:\n",
    "                C0 = self.p * self.get_rational_price(option, np.array([self.u]))\n",
    "                C0 += (1 - self.p) * self.get_rational_price(option, np.array([self.d]))\n",
    "                C0 /= 1 + self.r\n",
    "                return C0\n",
    "            elif len(trajectory) < self.T:\n",
    "                tu = np.append(np.ndarray.copy(trajectory), self.u)\n",
    "                td = np.append(np.ndarray.copy(trajectory), self.d)\n",
    "                Ct = self.p * self.get_rational_price(option, tu) \n",
    "                Ct += (1 - self.p) * self.get_rational_price(option, td)\n",
    "                Ct /= 1 + self.r\n",
    "                return Ct\n",
    "            else:\n",
    "                S_trajectory = self.get_S_trajectory(trajectory)\n",
    "                return option.get_final_price(S_trajectory)"
   ]
  },
  {
   "cell_type": "code",
   "execution_count": 3,
   "id": "03460ffc",
   "metadata": {},
   "outputs": [],
   "source": [
    "class Option:\n",
    "    def __init__(self, K):\n",
    "        self.K = K\n",
    "    \n",
    "    def get_final_price(self, S_trajectory):\n",
    "        pass\n",
    "   \n",
    "\n",
    "class CallOption(Option):\n",
    "    def __init__(self, K):\n",
    "        super().__init__(K)\n",
    "        \n",
    "    def get_final_price(self, S_trajectory):\n",
    "        return max(S_trajectory[-1] - self.K, 0.0)\n",
    "    \n",
    "    \n",
    "class PutOption(Option):\n",
    "    def __init__(self, K):\n",
    "        super().__init__(K)\n",
    "        \n",
    "    def get_final_price(self, S_trajectory):\n",
    "        return max(self.K - S_trajectory[-1], 0.0)\n",
    "\n",
    "    \n",
    "class SomeOtherOption(Option):\n",
    "    def __init__(self, K=0.0):\n",
    "        super().__init__(K)\n",
    "        \n",
    "    def get_final_price(self, S_trajectory):\n",
    "        return np.max(S_trajectory)"
   ]
  },
  {
   "cell_type": "code",
   "execution_count": 4,
   "id": "5db1e23f",
   "metadata": {},
   "outputs": [],
   "source": [
    "crr = CRR(100, 0.8, 1.3, 0.1, 10)"
   ]
  },
  {
   "cell_type": "markdown",
   "id": "21d7b354",
   "metadata": {},
   "source": [
    "## Call Option"
   ]
  },
  {
   "cell_type": "code",
   "execution_count": 5,
   "id": "70168a8f",
   "metadata": {},
   "outputs": [
    {
     "name": "stdout",
     "output_type": "stream",
     "text": [
      "Call Option rational price: 66.97\n"
     ]
    }
   ],
   "source": [
    "call = CallOption(90)\n",
    "call_price = crr.get_rational_price(call)\n",
    "print(f'Call Option rational price: {call_price:.2f}')"
   ]
  },
  {
   "cell_type": "code",
   "execution_count": 6,
   "id": "681fc48b",
   "metadata": {},
   "outputs": [
    {
     "name": "stdout",
     "output_type": "stream",
     "text": [
      "Call Option (theoretical) rational price: 66.97\n"
     ]
    }
   ],
   "source": [
    "C0 = 0.0\n",
    "for i in range(crr.T + 1):\n",
    "    C0 += binom(crr.T, i) * (crr.p**i) * ((1 - crr.p)**(crr.T - i)) * max(crr.S0 * crr.u**i * crr.d**(crr.T - i) - call.K, \n",
    "                                                                          0)\n",
    "C0 /= (1 + crr.r)**crr.T\n",
    "print(f'Call Option (theoretical) rational price: {C0:.2f}')"
   ]
  },
  {
   "cell_type": "markdown",
   "id": "2541a175",
   "metadata": {},
   "source": [
    "## Put Option"
   ]
  },
  {
   "cell_type": "code",
   "execution_count": 7,
   "id": "b50ee240",
   "metadata": {},
   "outputs": [
    {
     "name": "stdout",
     "output_type": "stream",
     "text": [
      "Put Option rational price: 1.67\n"
     ]
    }
   ],
   "source": [
    "put = PutOption(90)\n",
    "put_price = crr.get_rational_price(put)\n",
    "print(f'Put Option rational price: {put_price:.2f}')"
   ]
  },
  {
   "cell_type": "code",
   "execution_count": 8,
   "id": "fe0411db",
   "metadata": {},
   "outputs": [
    {
     "name": "stdout",
     "output_type": "stream",
     "text": [
      "Put Option (theoretical) rational price: 1.67\n"
     ]
    }
   ],
   "source": [
    "C0 = 0.0\n",
    "for i in range(crr.T + 1):\n",
    "    C0 += binom(crr.T, i) * (crr.p**i) * ((1 - crr.p)**(crr.T - i)) * max(put.K - crr.S0 * crr.u**i * crr.d**(crr.T - i), \n",
    "                                                                          0)\n",
    "C0 /= (1 + crr.r)**crr.T\n",
    "print(f'Put Option (theoretical) rational price: {C0:.2f}')"
   ]
  },
  {
   "cell_type": "markdown",
   "id": "0cdf328b",
   "metadata": {},
   "source": [
    "## Some Other Option\n",
    "\n",
    "$X = \\max_{t \\in \\mathcal{T}} \\{S_t\\}$"
   ]
  },
  {
   "cell_type": "code",
   "execution_count": 9,
   "id": "1fd67023",
   "metadata": {},
   "outputs": [
    {
     "name": "stdout",
     "output_type": "stream",
     "text": [
      "Some Other Option rational price: 116.88\n"
     ]
    }
   ],
   "source": [
    "soo = SomeOtherOption()\n",
    "soo_price = crr.get_rational_price(soo)\n",
    "print(f'Some Other Option rational price: {soo_price:.2f}')"
   ]
  }
 ],
 "metadata": {
  "kernelspec": {
   "display_name": "Python 3 (ipykernel)",
   "language": "python",
   "name": "python3"
  },
  "language_info": {
   "codemirror_mode": {
    "name": "ipython",
    "version": 3
   },
   "file_extension": ".py",
   "mimetype": "text/x-python",
   "name": "python",
   "nbconvert_exporter": "python",
   "pygments_lexer": "ipython3",
   "version": "3.8.12"
  }
 },
 "nbformat": 4,
 "nbformat_minor": 5
}
