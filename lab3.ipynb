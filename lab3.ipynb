{
 "cells": [
  {
   "cell_type": "code",
   "execution_count": 9,
   "id": "6ae0c57f",
   "metadata": {},
   "outputs": [],
   "source": [
    "import numpy as np\n",
    "\n",
    "np.random.seed(123)"
   ]
  },
  {
   "cell_type": "code",
   "execution_count": 69,
   "id": "29fa6c2d",
   "metadata": {},
   "outputs": [],
   "source": [
    "class CRR:\n",
    "    def __init__(self, S0, d, u, r, T):\n",
    "        if not (d < 1 + r < u):\n",
    "            raise ValueError('in CRR model it must be d < 1 + r < u')\n",
    "        self.S0 = S0\n",
    "        self.d = d\n",
    "        self.u = u\n",
    "        self.r = r\n",
    "        self.T = T\n",
    "        self.p = (1 + r - d)/(u - d)\n",
    "        self.last_trajectory = np.array([])\n",
    "        self.S_trajectory = np.array([])\n",
    "    \n",
    "    def generate_trajectory(self):\n",
    "        self.last_trajectory = np.array([])\n",
    "        \n",
    "        for i in range(self.T):\n",
    "            if np.random.uniform(0, 1) < self.p:\n",
    "                w = self.u\n",
    "            else:\n",
    "                w = self.d\n",
    "            self.last_trajectory = np.append(self.last_trajectory, w)\n",
    "        return np.ndarray.copy(self.last_trajectory)\n",
    "        \n",
    "    def get_S_trajectory(self):\n",
    "        self.S_trajectory = np.cumprod(self.last_trajectory) * self.S0\n",
    "        return np.ndarray.copy(self.S_trajectory)\n",
    "    \n",
    "    def get_rational_price(self, option):\n",
    "        trajectory_copy = np.ndarray.copy(self.last_trajectory)\n",
    "        for i in range(self.T - 1, 0, -1):\n",
    "            tr = np.ndarray.copy(trajectory_copy)[0:i+1]\n",
    "            pass\n",
    "            "
   ]
  },
  {
   "cell_type": "code",
   "execution_count": 68,
   "id": "03460ffc",
   "metadata": {},
   "outputs": [],
   "source": [
    "class Option:\n",
    "    def __init__(self, K):\n",
    "        self.K = K\n",
    "        self.price_trajectory = np.array([])\n",
    "        self.X = [0.0, 0.0]\n",
    "    \n",
    "    def get_final_price(self, S_trajectory):\n",
    "        pass"
   ]
  },
  {
   "cell_type": "code",
   "execution_count": 53,
   "id": "a817df5a",
   "metadata": {},
   "outputs": [],
   "source": [
    "class CallOption(Option):\n",
    "    def __init__(self, K):\n",
    "        super().__init__(K)\n",
    "        \n",
    "    def get_final_price(self, S_trajectory):\n",
    "        return np.max(S_trajectory[-1] - self.K, 0)"
   ]
  },
  {
   "cell_type": "code",
   "execution_count": 54,
   "id": "8afa2ae9",
   "metadata": {},
   "outputs": [],
   "source": [
    "class PutOption(Option):\n",
    "    def __init__(self, K):\n",
    "        super().__init__(K)\n",
    "        \n",
    "    def get_final_price(self, S_trajectory):\n",
    "        return np.max(self.K - S_trajectory[-1], 0)"
   ]
  },
  {
   "cell_type": "code",
   "execution_count": 57,
   "id": "5db1e23f",
   "metadata": {},
   "outputs": [],
   "source": [
    "crr = CRR(100, 0.8, 1.3, 0.1, 10)"
   ]
  },
  {
   "cell_type": "code",
   "execution_count": 63,
   "id": "cc01bcf7",
   "metadata": {},
   "outputs": [],
   "source": [
    "crr.generate_trajectory()\n",
    "S_trajectory = crr.get_S_trajectory()"
   ]
  },
  {
   "cell_type": "code",
   "execution_count": 64,
   "id": "709bdc5d",
   "metadata": {},
   "outputs": [
    {
     "data": {
      "text/plain": [
       "array([ 80.        , 104.        , 135.2       , 108.16      ,\n",
       "       140.608     , 182.7904    , 237.62752   , 190.102016  ,\n",
       "       247.1326208 , 197.70609664])"
      ]
     },
     "execution_count": 64,
     "metadata": {},
     "output_type": "execute_result"
    }
   ],
   "source": [
    "S_trajectory"
   ]
  },
  {
   "cell_type": "code",
   "execution_count": 65,
   "id": "f5efb96e",
   "metadata": {},
   "outputs": [
    {
     "data": {
      "text/plain": [
       "107.70609664000008"
      ]
     },
     "execution_count": 65,
     "metadata": {},
     "output_type": "execute_result"
    }
   ],
   "source": [
    "call = CallOption(90)\n",
    "call.get_final_price(S_trajectory)"
   ]
  }
 ],
 "metadata": {
  "kernelspec": {
   "display_name": "Python 3 (ipykernel)",
   "language": "python",
   "name": "python3"
  },
  "language_info": {
   "codemirror_mode": {
    "name": "ipython",
    "version": 3
   },
   "file_extension": ".py",
   "mimetype": "text/x-python",
   "name": "python",
   "nbconvert_exporter": "python",
   "pygments_lexer": "ipython3",
   "version": "3.8.12"
  }
 },
 "nbformat": 4,
 "nbformat_minor": 5
}
