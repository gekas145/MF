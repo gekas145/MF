{
 "cells": [
  {
   "cell_type": "markdown",
   "id": "ee8ed886",
   "metadata": {},
   "source": [
    "# Laboratorium 3"
   ]
  },
  {
   "cell_type": "code",
   "execution_count": 1,
   "id": "6ae0c57f",
   "metadata": {},
   "outputs": [],
   "source": [
    "import numpy as np\n",
    "\n",
    "np.random.seed(123)"
   ]
  },
  {
   "cell_type": "code",
   "execution_count": 28,
   "id": "29fa6c2d",
   "metadata": {},
   "outputs": [],
   "source": [
    "class CRR:\n",
    "    def __init__(self, S0, d, u, r, T):\n",
    "        if not (d < 1 + r < u):\n",
    "            raise ValueError('in CRR model it must be d < 1 + r < u')\n",
    "        self.S0 = S0\n",
    "        self.d = d\n",
    "        self.u = u\n",
    "        self.r = r\n",
    "        self.T = T\n",
    "        self.p = (1 + r - d)/(u - d)\n",
    "        \n",
    "    def get_S_trajectory(self, trajectory):\n",
    "        return np.cumprod(trajectory) * self.S0\n",
    "    \n",
    "    def get_rational_price(self, option, trajectory=None):\n",
    "            if trajectory is None:\n",
    "                C0 = self.p * self.get_rational_price(option, np.array([self.u])) + (1 - self.p) * self.get_rational_price(option, np.array([self.d]))\n",
    "                C0 /= 1 + self.r\n",
    "                return C0\n",
    "            elif len(trajectory) != self.T:\n",
    "                tu = np.append(np.ndarray.copy(trajectory), self.u)\n",
    "                td = np.append(np.ndarray.copy(trajectory), self.d)\n",
    "                Ct = self.p * self.get_rational_price(option, tu) + (1 - self.p) * self.get_rational_price(option, td)\n",
    "                Ct /= 1 + self.r\n",
    "                return Ct\n",
    "            else:\n",
    "                S_trajectory = self.get_S_trajectory(trajectory)\n",
    "                return option.get_final_price(S_trajectory)"
   ]
  },
  {
   "cell_type": "code",
   "execution_count": 13,
   "id": "03460ffc",
   "metadata": {},
   "outputs": [],
   "source": [
    "class Option:\n",
    "    def __init__(self, K):\n",
    "        self.K = K\n",
    "    \n",
    "    def get_final_price(self, S_trajectory):\n",
    "        pass"
   ]
  },
  {
   "cell_type": "code",
   "execution_count": 17,
   "id": "a817df5a",
   "metadata": {},
   "outputs": [],
   "source": [
    "class CallOption(Option):\n",
    "    def __init__(self, K):\n",
    "        super().__init__(K)\n",
    "        \n",
    "    def get_final_price(self, S_trajectory):\n",
    "        return max(S_trajectory[-1] - self.K, 0.0)"
   ]
  },
  {
   "cell_type": "code",
   "execution_count": 16,
   "id": "8afa2ae9",
   "metadata": {},
   "outputs": [],
   "source": [
    "class PutOption(Option):\n",
    "    def __init__(self, K):\n",
    "        super().__init__(K)\n",
    "        \n",
    "    def get_final_price(self, S_trajectory):\n",
    "        return max(self.K - S_trajectory[-1], 0.0)"
   ]
  },
  {
   "cell_type": "code",
   "execution_count": 32,
   "id": "5d6daab6",
   "metadata": {},
   "outputs": [],
   "source": [
    "class SomeOtherOption(Option):\n",
    "    def __init__(self, K=0.0):\n",
    "        super().__init__(K)\n",
    "        \n",
    "    def get_final_price(self, S_trajectory):\n",
    "        return np.max(S_trajectory)"
   ]
  },
  {
   "cell_type": "code",
   "execution_count": 29,
   "id": "5db1e23f",
   "metadata": {},
   "outputs": [],
   "source": [
    "crr = CRR(100, 0.8, 1.3, 0.1, 10)"
   ]
  },
  {
   "cell_type": "code",
   "execution_count": 20,
   "id": "70168a8f",
   "metadata": {},
   "outputs": [],
   "source": [
    "call = PutOption(90)"
   ]
  },
  {
   "cell_type": "code",
   "execution_count": 30,
   "id": "41eed70d",
   "metadata": {},
   "outputs": [
    {
     "data": {
      "text/plain": [
       "1.6689609138656192"
      ]
     },
     "execution_count": 30,
     "metadata": {},
     "output_type": "execute_result"
    }
   ],
   "source": [
    "crr.get_rational_price(call)"
   ]
  },
  {
   "cell_type": "code",
   "execution_count": 24,
   "id": "b50ee240",
   "metadata": {},
   "outputs": [],
   "source": [
    "put = PutOption(90)"
   ]
  },
  {
   "cell_type": "code",
   "execution_count": 31,
   "id": "36bc0d3c",
   "metadata": {},
   "outputs": [
    {
     "data": {
      "text/plain": [
       "1.6689609138656192"
      ]
     },
     "execution_count": 31,
     "metadata": {},
     "output_type": "execute_result"
    }
   ],
   "source": [
    "crr.get_rational_price(put)"
   ]
  },
  {
   "cell_type": "code",
   "execution_count": 33,
   "id": "1fd67023",
   "metadata": {},
   "outputs": [
    {
     "data": {
      "text/plain": [
       "116.59159369509308"
      ]
     },
     "execution_count": 33,
     "metadata": {},
     "output_type": "execute_result"
    }
   ],
   "source": [
    "soo = SomeOtherOption()\n",
    "crr.get_rational_price(soo)"
   ]
  }
 ],
 "metadata": {
  "kernelspec": {
   "display_name": "Python 3 (ipykernel)",
   "language": "python",
   "name": "python3"
  },
  "language_info": {
   "codemirror_mode": {
    "name": "ipython",
    "version": 3
   },
   "file_extension": ".py",
   "mimetype": "text/x-python",
   "name": "python",
   "nbconvert_exporter": "python",
   "pygments_lexer": "ipython3",
   "version": "3.8.12"
  }
 },
 "nbformat": 4,
 "nbformat_minor": 5
}
