{
 "cells": [
  {
   "cell_type": "markdown",
   "id": "2dd6d9c6",
   "metadata": {},
   "source": [
    "# Laboratorium 1"
   ]
  },
  {
   "cell_type": "code",
   "execution_count": 40,
   "id": "f087691a",
   "metadata": {},
   "outputs": [],
   "source": [
    "from math import floor, pi, exp, sqrt, cos, factorial\n",
    "from matplotlib import pyplot as plt\n",
    "from numpy.random import normal, uniform, seed, exponential, binomial, poisson\n",
    "import numpy as np\n",
    "from scipy.stats import binom, norm, expon\n",
    "\n",
    "seed(123)"
   ]
  },
  {
   "cell_type": "markdown",
   "id": "0b7790c7",
   "metadata": {},
   "source": [
    "a)"
   ]
  },
  {
   "cell_type": "code",
   "execution_count": 2,
   "id": "27b2421c",
   "metadata": {},
   "outputs": [],
   "source": [
    "class RandomGenerator:\n",
    "    def __init__(self, seed, a0=floor(exp(1)*10**9), a1=floor(pi*10**9), m=2**35):\n",
    "        self.a0 = a0\n",
    "        self.a1 = a1\n",
    "        self.m = m\n",
    "        self.next_number = seed\n",
    "    \n",
    "    def uniform(self):\n",
    "        self.next_number = (self.a1*self.next_number + self.a0) % self.m\n",
    "        return self.next_number/(self.m - 1)"
   ]
  },
  {
   "cell_type": "code",
   "execution_count": 3,
   "id": "3b385520",
   "metadata": {},
   "outputs": [],
   "source": [
    "rd = RandomGenerator(32)\n",
    "numbers = [0]*100000\n",
    "for i in range(len(numbers)):\n",
    "    numbers[i] = rd.uniform()"
   ]
  },
  {
   "cell_type": "code",
   "execution_count": 4,
   "id": "285a28d3",
   "metadata": {},
   "outputs": [
    {
     "data": {
      "image/png": "[encoded data removed]",
      "text/plain": [
       "<Figure size 432x288 with 1 Axes>"
      ]
     },
     "metadata": {
      "needs_background": "light"
     },
     "output_type": "display_data"
    }
   ],
   "source": [
    "plt.hist(numbers, bins=30, range=[0, 1])\n",
    "plt.ylabel('Cardinality')\n",
    "plt.xlabel('Random Numbers')\n",
    "plt.title('Histogram')\n",
    "plt.show()\n",
    "# widzimy w miarę jednostajny rozkład"
   ]
  },
  {
   "cell_type": "markdown",
   "id": "121b47a2",
   "metadata": {},
   "source": [
    "b)"
   ]
  },
  {
   "cell_type": "code",
   "execution_count": 5,
   "id": "ffcbd0ae",
   "metadata": {},
   "outputs": [],
   "source": [
    "def normal_pdf(x):\n",
    "    return 1/sqrt(2*pi) * exp(-1/2 * x**2)\n",
    "\n",
    "def f(x):\n",
    "    return (1 + cos(2*pi*x))/(1 + exp(-2*pi**2))\n",
    "\n",
    "def random_b():\n",
    "    y = uniform(0, 1)\n",
    "    x = normal(0, 1)\n",
    "    while y > f(x)/(2*normal_pdf(x)):\n",
    "        y = uniform(0, 1)\n",
    "        x = normal(0, 1)\n",
    "    return x"
   ]
  },
  {
   "cell_type": "code",
   "execution_count": 6,
   "id": "a807a378",
   "metadata": {},
   "outputs": [
    {
     "name": "stdout",
     "output_type": "stream",
     "text": [
      "(Pseudo)random number 1: -0.9520972068613222\n",
      "(Pseudo)random number 2: -0.7454410594826583\n",
      "(Pseudo)random number 3: 0.32210606833962163\n",
      "(Pseudo)random number 4: -0.0515177209393851\n",
      "(Pseudo)random number 5: -1.6193000650367457\n",
      "(Pseudo)random number 6: -1.1139644169570049\n",
      "(Pseudo)random number 7: -0.143372474128259\n",
      "(Pseudo)random number 8: 0.12652592015140082\n",
      "(Pseudo)random number 9: -1.3014889745468878\n",
      "(Pseudo)random number 10: 0.7249152254312674\n"
     ]
    }
   ],
   "source": [
    "for i in range(10):\n",
    "    print(\"(Pseudo)random number \", i+1, \": \", random_b(), sep=\"\")"
   ]
  },
  {
   "cell_type": "markdown",
   "id": "c85e9c93",
   "metadata": {},
   "source": [
    "c) Dla przykładu będziemy generowali zmienne z rozkładu Poissona o $\\lambda$ równym 2."
   ]
  },
  {
   "cell_type": "code",
   "execution_count": 74,
   "id": "ae8f80bf",
   "metadata": {},
   "outputs": [],
   "source": [
    "# Sposób pierwszy - za pomocą procesu Poissona.\n",
    "# Patrzymy ile zmiennych losowych z rozkładu Exp(2)\n",
    "# zsumuje się do czegoś mniejszego od 1, z tym, że\n",
    "# dodanie kolejnej zmiennej da sumę większą od 1.\n",
    "# Liczba tych zmiennych da nam wartość zmiennej poissonowskiej z parameterm 2\n",
    "\n",
    "def poisson1():\n",
    "    x = exponential(1/2) # chodzi o Exp(2), numpy ma ten rozkład z parametrem 1/lambda\n",
    "    poisson_val = 0\n",
    "    while x <= 1:\n",
    "        poisson_val += 1\n",
    "        x += exponential(1/2)\n",
    "    return poisson_val\n",
    "\n",
    "# Sposób drugi - jak było na laboratorium\n",
    "\n",
    "def poisson_pmf(k):\n",
    "    return 2**k * exp(-2) / factorial(k)\n",
    "\n",
    "def poisson2():\n",
    "    i = 0\n",
    "    u = uniform(0, 1)\n",
    "    sum1 = 0\n",
    "    sum2 = poisson_pmf(0)\n",
    "    while not sum1 < u <= sum2:\n",
    "        i += 1\n",
    "        sum1 = sum2\n",
    "        sum2 += poisson_pmf(i)\n",
    "    return i"
   ]
  },
  {
   "cell_type": "code",
   "execution_count": 58,
   "id": "37398deb",
   "metadata": {},
   "outputs": [],
   "source": [
    "def random_c(n, method):\n",
    "    samples = [0] * n\n",
    "    for i in range(n):\n",
    "        samples[i] = method()\n",
    "    return samples\n",
    "\n",
    "n = 1000"
   ]
  },
  {
   "cell_type": "code",
   "execution_count": 83,
   "id": "b9159781",
   "metadata": {},
   "outputs": [
    {
     "data": {
      "image/png": "[encoded data removed]",
      "text/plain": [
       "<Figure size 432x288 with 1 Axes>"
      ]
     },
     "metadata": {
      "needs_background": "light"
     },
     "output_type": "display_data"
    }
   ],
   "source": [
    "samples = random_c(n, poisson1)\n",
    "plt.hist(samples, bins=30, range=[0, 10])\n",
    "plt.title('Poisson process')\n",
    "plt.show()"
   ]
  },
  {
   "cell_type": "code",
   "execution_count": 88,
   "id": "4f3b19da",
   "metadata": {},
   "outputs": [
    {
     "data": {
      "image/png": "[encoded data removed]",
      "text/plain": [
       "<Figure size 432x288 with 1 Axes>"
      ]
     },
     "metadata": {
      "needs_background": "light"
     },
     "output_type": "display_data"
    }
   ],
   "source": [
    "samples = random_c(n, poisson2)\n",
    "plt.hist(samples, bins=30, range=[0, 10])\n",
    "plt.title('Standard method')\n",
    "plt.show()"
   ]
  },
  {
   "cell_type": "code",
   "execution_count": 87,
   "id": "82166c14",
   "metadata": {},
   "outputs": [
    {
     "data": {
      "image/png": "[encoded data removed]",
      "text/plain": [
       "<Figure size 432x288 with 1 Axes>"
      ]
     },
     "metadata": {
      "needs_background": "light"
     },
     "output_type": "display_data"
    }
   ],
   "source": [
    "# na potrzebę sprawdzenia poprawności wykorzystamy też wbudowany algorytm\n",
    "# widzimy, że histogramy są bardzo do siebie podobne\n",
    "samples = poisson(2, n)\n",
    "plt.hist(samples, bins=30, range=[0, 10])\n",
    "plt.title('Built in')\n",
    "plt.show()"
   ]
  },
  {
   "cell_type": "markdown",
   "id": "2177d82d",
   "metadata": {},
   "source": [
    "d)"
   ]
  },
  {
   "cell_type": "code",
   "execution_count": 29,
   "id": "0b5fb74c",
   "metadata": {},
   "outputs": [],
   "source": [
    "def random_d(n):\n",
    "    samples = [0] * n\n",
    "    for i in range(len(samples)):\n",
    "        u = uniform(0, 1)\n",
    "        if u < 1/3:\n",
    "            samples[i] = binomial(10, 1/3)\n",
    "        elif u < 2/3:\n",
    "            samples[i] = normal(0, 1)\n",
    "        else:\n",
    "            samples[i] = exponential(1)\n",
    "    return np.array(samples)"
   ]
  },
  {
   "cell_type": "code",
   "execution_count": 160,
   "id": "c49421d5",
   "metadata": {},
   "outputs": [],
   "source": [
    "def ecdf(n):\n",
    "    samples = random_d(n)\n",
    "    t = np.arange(-10, 10, step=20/n)\n",
    "    probs = [0] * n\n",
    "    for i in range(len(t)):\n",
    "        probs[i] = sum(samples <= t[i])/n\n",
    "    return probs, t\n",
    "\n",
    "def theoretical(t):\n",
    "    return 1/3 * expon.cdf(t, 1) + 1/3 * binom.cdf(t, 10, 1/3) + 1/3 * norm.cdf(t, 0, 1)"
   ]
  },
  {
   "cell_type": "code",
   "execution_count": 168,
   "id": "c0038016",
   "metadata": {},
   "outputs": [],
   "source": [
    "probs, t = ecdf(800)"
   ]
  },
  {
   "cell_type": "code",
   "execution_count": 172,
   "id": "356c9a2e",
   "metadata": {},
   "outputs": [
    {
     "data": {
      "image/png": "[encoded data removed]",
      "text/plain": [
       "<Figure size 432x288 with 1 Axes>"
      ]
     },
     "metadata": {
      "needs_background": "light"
     },
     "output_type": "display_data"
    }
   ],
   "source": [
    "plt.plot(t, probs, label='ecdf')\n",
    "plt.plot(t, theoretical(t), label='theoretical')\n",
    "plt.title('ecdf vs theoretical')\n",
    "plt.legend()\n",
    "plt.show()"
   ]
  },
  {
   "cell_type": "markdown",
   "id": "bae465d6",
   "metadata": {},
   "source": [
    "e)"
   ]
  },
  {
   "cell_type": "code",
   "execution_count": null,
   "id": "e4ef7f06",
   "metadata": {},
   "outputs": [],
   "source": []
  }
 ],
 "metadata": {
  "kernelspec": {
   "display_name": "Python 3 (ipykernel)",
   "language": "python",
   "name": "python3"
  },
  "language_info": {
   "codemirror_mode": {
    "name": "ipython",
    "version": 3
   },
   "file_extension": ".py",
   "mimetype": "text/x-python",
   "name": "python",
   "nbconvert_exporter": "python",
   "pygments_lexer": "ipython3",
   "version": "3.8.12"
  }
 },
 "nbformat": 4,
 "nbformat_minor": 5
}
