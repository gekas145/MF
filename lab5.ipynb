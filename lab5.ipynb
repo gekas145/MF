{
 "cells": [
  {
   "cell_type": "markdown",
   "id": "f5083096",
   "metadata": {},
   "source": [
    "# Laboratorium 5"
   ]
  },
  {
   "cell_type": "code",
   "execution_count": 45,
   "id": "bfe5dc11",
   "metadata": {},
   "outputs": [],
   "source": [
    "import numpy as np\n",
    "from scipy.stats import norm\n",
    "import matplotlib.pyplot as plt"
   ]
  },
  {
   "cell_type": "code",
   "execution_count": 83,
   "id": "2bfeab54",
   "metadata": {},
   "outputs": [],
   "source": [
    "def variance(probe, mean):\n",
    "    return np.sum((probe - mean)**2) / (len(probe) - 1)"
   ]
  },
  {
   "cell_type": "code",
   "execution_count": 35,
   "id": "593bb59f",
   "metadata": {},
   "outputs": [],
   "source": [
    "def d(S0, T, K, sigma, r, sign):\n",
    "    return (np.log(S0/K) + (r + sign * sigma**2 / 2)*T)/(sigma * np.sqrt(T))"
   ]
  },
  {
   "cell_type": "code",
   "execution_count": 36,
   "id": "2c3dec96",
   "metadata": {},
   "outputs": [],
   "source": [
    "def theoretical_price(S0, T, K, sigma, r):\n",
    "    return S0 * norm.cdf(d(S0, T, K, sigma, r, 1))  - K*np.exp(-r*T) * norm.cdf(d(S0, T, K, sigma, r, -1))"
   ]
  },
  {
   "cell_type": "code",
   "execution_count": 40,
   "id": "ba015ea1",
   "metadata": {},
   "outputs": [
    {
     "name": "stdout",
     "output_type": "stream",
     "text": [
      "Cena opcji call In The Money: 48.37\n",
      "Cena opcji call Out Of The Money: 35.77\n"
     ]
    }
   ],
   "source": [
    "im = theoretical_price(100, 1, 80, 1, 0.1)\n",
    "print(f'Cena opcji call In The Money: {im:.2f}')\n",
    "om = theoretical_price(100, 1, 120, 1, 0.1)\n",
    "print(f'Cena opcji call Out Of The Money: {om:.2f}')"
   ]
  },
  {
   "cell_type": "markdown",
   "id": "51f01027",
   "metadata": {},
   "source": [
    "## Zadanie 1\n",
    "a) Monte Carlo"
   ]
  },
  {
   "cell_type": "code",
   "execution_count": 71,
   "id": "9a6ebbf9",
   "metadata": {},
   "outputs": [],
   "source": [
    "def get_ST(S0, T, sigma, r, n):\n",
    "    X = np.random.normal(0, 1, n)\n",
    "    X = sigma*np.sqrt(T)*X + (r - sigma**2 / 2)*T\n",
    "    return S0 * np.exp(X)"
   ]
  },
  {
   "cell_type": "code",
   "execution_count": 104,
   "id": "20e79ccd",
   "metadata": {},
   "outputs": [],
   "source": [
    "def Monte_Carlo(S0, T, sigma, r, K, n=10**7):\n",
    "    ST = get_ST(S0, T, sigma, r, n)\n",
    "    probe = np.exp(-r*T) * np.maximum(ST - K, [0])\n",
    "    prices = np.cumsum(probe) / np.arange(1, n+1)\n",
    "    var = variance(probe, prices[-1])\n",
    "    return prices[10**4:n], var"
   ]
  },
  {
   "cell_type": "code",
   "execution_count": 105,
   "id": "e535a95c",
   "metadata": {},
   "outputs": [],
   "source": [
    "prices, var = Monte_Carlo(100, 1, 1, 0.1, 80)"
   ]
  },
  {
   "cell_type": "code",
   "execution_count": 112,
   "id": "c8a632eb",
   "metadata": {},
   "outputs": [
    {
     "data": {
      "image/png": "[encoded data removed]",
      "text/plain": [
       "<Figure size 432x288 with 1 Axes>"
      ]
     },
     "metadata": {
      "needs_background": "light"
     },
     "output_type": "display_data"
    }
   ],
   "source": [
    "plt.axhline(y=im, color='r', linestyle='-')\n",
    "for i in range(2):\n",
    "    prices, _ = Monte_Carlo(100, 1, 1, 0.1, 80)\n",
    "    plt.plot(np.arange(10**4, 10**4 + len(prices)), prices, color='C0', alpha=0.1)\n",
    "plt.xscale('log')\n",
    "plt.title('Monte Carlo')\n",
    "plt.show()"
   ]
  }
 ],
 "metadata": {
  "kernelspec": {
   "display_name": "Python 3 (ipykernel)",
   "language": "python",
   "name": "python3"
  },
  "language_info": {
   "codemirror_mode": {
    "name": "ipython",
    "version": 3
   },
   "file_extension": ".py",
   "mimetype": "text/x-python",
   "name": "python",
   "nbconvert_exporter": "python",
   "pygments_lexer": "ipython3",
   "version": "3.8.13"
  }
 },
 "nbformat": 4,
 "nbformat_minor": 5
}
